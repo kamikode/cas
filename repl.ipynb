{
 "cells": [
  {
   "cell_type": "code",
   "execution_count": 3,
   "id": "a0c7ca70",
   "metadata": {},
   "outputs": [],
   "source": [
    "import cas"
   ]
  },
  {
   "cell_type": "code",
   "execution_count": 4,
   "id": "24fac97a",
   "metadata": {},
   "outputs": [
    {
     "data": {
      "text/latex": [
       "$x^2 + y^2 + z^2$"
      ],
      "text/plain": [
       "<TestClass at 0x111563c90>"
      ]
     },
     "execution_count": 4,
     "metadata": {},
     "output_type": "execute_result"
    }
   ],
   "source": [
    "cas.TestClass()"
   ]
  }
 ],
 "metadata": {
  "kernelspec": {
   "display_name": ".venv",
   "language": "python",
   "name": "python3"
  },
  "language_info": {
   "codemirror_mode": {
    "name": "ipython",
    "version": 3
   },
   "file_extension": ".py",
   "mimetype": "text/x-python",
   "name": "python",
   "nbconvert_exporter": "python",
   "pygments_lexer": "ipython3",
   "version": "3.13.0"
  }
 },
 "nbformat": 4,
 "nbformat_minor": 5
}
