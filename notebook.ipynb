{
 "cells": [
  {
   "cell_type": "code",
   "execution_count": 1,
   "id": "a0c7ca70",
   "metadata": {},
   "outputs": [],
   "source": [
    "import cas"
   ]
  },
  {
   "cell_type": "code",
   "execution_count": 2,
   "id": "24fac97a",
   "metadata": {},
   "outputs": [
    {
     "data": {
      "text/latex": [
       "$(x + y)$"
      ],
      "text/plain": [
       "<cas.Expression at 0x105548300>"
      ]
     },
     "execution_count": 2,
     "metadata": {},
     "output_type": "execute_result"
    }
   ],
   "source": [
    "x = cas.Symbol(\"x\")\n",
    "y = cas.Symbol(\"y\")\n",
    "z = x + y\n",
    "z"
   ]
  }
 ],
 "metadata": {
  "kernelspec": {
   "display_name": ".venv",
   "language": "python",
   "name": "python3"
  },
  "language_info": {
   "codemirror_mode": {
    "name": "ipython",
    "version": 3
   },
   "file_extension": ".py",
   "mimetype": "text/x-python",
   "name": "python",
   "nbconvert_exporter": "python",
   "pygments_lexer": "ipython3",
   "version": "3.13.0"
  }
 },
 "nbformat": 4,
 "nbformat_minor": 5
}
