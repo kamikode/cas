{
 "cells": [
  {
   "cell_type": "code",
   "execution_count": 1,
   "id": "a0c7ca70",
   "metadata": {},
   "outputs": [],
   "source": [
    "import cas"
   ]
  },
  {
   "cell_type": "code",
   "execution_count": 2,
   "id": "24fac97a",
   "metadata": {},
   "outputs": [
    {
     "data": {
      "text/latex": [
       "$\\left(x + y\\right)$"
      ],
      "text/plain": [
       "<cas.Expression at 0x111cbeeb0>"
      ]
     },
     "execution_count": 2,
     "metadata": {},
     "output_type": "execute_result"
    }
   ],
   "source": [
    "x = cas.Symbol(\"x\")\n",
    "y = cas.Symbol(\"y\")\n",
    "z = x + y\n",
    "z"
   ]
  },
  {
   "cell_type": "code",
   "execution_count": 3,
   "id": "295f211b",
   "metadata": {},
   "outputs": [
    {
     "data": {
      "text/latex": [
       "$\\left(x + 3\\right)$"
      ],
      "text/plain": [
       "<cas.Expression at 0x111cbec10>"
      ]
     },
     "execution_count": 3,
     "metadata": {},
     "output_type": "execute_result"
    }
   ],
   "source": [
    "x + 3"
   ]
  },
  {
   "cell_type": "code",
   "execution_count": 4,
   "id": "6d62572d",
   "metadata": {},
   "outputs": [
    {
     "data": {
      "text/latex": [
       "$\\left(3 + x\\right)$"
      ],
      "text/plain": [
       "<cas.Expression at 0x111cbe010>"
      ]
     },
     "execution_count": 4,
     "metadata": {},
     "output_type": "execute_result"
    }
   ],
   "source": [
    "3 + x"
   ]
  },
  {
   "cell_type": "code",
   "execution_count": 5,
   "id": "cfb25e7e",
   "metadata": {},
   "outputs": [
    {
     "data": {
      "text/latex": [
       "$\\left(x + 115792089237316195423570985008687907853269984665640564039457584007913129639936\\right)$"
      ],
      "text/plain": [
       "<cas.Expression at 0x111cbec70>"
      ]
     },
     "execution_count": 5,
     "metadata": {},
     "output_type": "execute_result"
    }
   ],
   "source": [
    "x + 2**256"
   ]
  }
 ],
 "metadata": {
  "kernelspec": {
   "display_name": ".venv",
   "language": "python",
   "name": "python3"
  },
  "language_info": {
   "codemirror_mode": {
    "name": "ipython",
    "version": 3
   },
   "file_extension": ".py",
   "mimetype": "text/x-python",
   "name": "python",
   "nbconvert_exporter": "python",
   "pygments_lexer": "ipython3",
   "version": "3.13.0"
  }
 },
 "nbformat": 4,
 "nbformat_minor": 5
}
